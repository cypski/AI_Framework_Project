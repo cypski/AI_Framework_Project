{
 "cells": [
  {
   "cell_type": "code",
   "execution_count": null,
   "metadata": {},
   "outputs": [],
   "source": [
    "import pandas as pd\n",
    "import matplotlib.pyplot as plt\n",
    "import matplotlib.cm as cm\n",
    "import matplotlib.colors as mcolors"
   ]
  },
  {
   "cell_type": "code",
   "execution_count": null,
   "metadata": {},
   "outputs": [],
   "source": [
    "sentiment_results = pd.read_csv()"
   ]
  },
  {
   "cell_type": "code",
   "execution_count": null,
   "metadata": {},
   "outputs": [],
   "source": [
    "sentiment_results['Filename'].unique"
   ]
  },
  {
   "cell_type": "code",
   "execution_count": null,
   "metadata": {},
   "outputs": [],
   "source": [
    "sentiment_results['Framework'] = sentiment_results['Filename'].str.split('_').str[0]\n",
    "sentiment_results['Date'] = sentiment_results['Filename'].str.split('_').str[1]\n",
    "new_order = ['Filename', 'Framework', 'Date', 'Positive', 'Negative', 'Neutral']\n",
    "sentiment_results = sentiment_results[new_order]\n",
    "\n",
    "frontier_mapping = {\n",
    "    'Amazon': 0, 'Anthropic': 1, 'Cohere': 1,\n",
    "    'Deepmind': 1, 'Deloitte': 0, 'G42': 0,\n",
    "    'Grammarly': 0, 'IBM': 0, 'KPMG': 0, 'Magic': 0,\n",
    "    'META': 1, 'Microsoft': 1,'Naver': 1, 'NVDIA': 0,\n",
    "    'OpenAI': 1, 'PaloAlto': 0, 'PwC': 0, 'xAI': 1\n",
    "}\n",
    "\n",
    "sentiment_results['Frontier'] = sentiment_results['Framework'].map(frontier_mapping)\n",
    "sentiment_results['Frontier'] = sentiment_results['Frontier'].astype(int)\n",
    "sentiment_results.head()"
   ]
  },
  {
   "cell_type": "code",
   "execution_count": null,
   "metadata": {},
   "outputs": [],
   "source": [
    "sentiment_results_positive = sentiment_results.sort_values(by = 'Positive', ascending = False)\n",
    "\n",
    "norm = mcolors.Normalize(vmin=-30, vmax=130)\n",
    "colors = cm.Greens(norm(sentiment_results_positive['Positive']))  \n",
    "# Plot horizontal bar chart\n",
    "plt.figure(figsize = (10, 6), dpi = 500)\n",
    "plt.barh(sentiment_results_positive['Framework'], sentiment_results_positive['Positive'], color = colors)\n",
    "plt.xlabel('Positive Sentiment (%)')\n",
    "plt.ylabel('Framework')\n",
    "plt.title('Most Positive Frameworks')\n",
    "plt.xlim(0, 100)\n",
    "plt.gca().invert_yaxis() \n",
    "plt.tight_layout()\n",
    "plt.show()"
   ]
  },
  {
   "cell_type": "code",
   "execution_count": null,
   "metadata": {},
   "outputs": [],
   "source": [
    "sentiment_results_sorted = sentiment_results.sort_values(by = ['Frontier', 'Positive'], ascending = [False, False])\n",
    "\n",
    "norm = mcolors.Normalize(vmin = -30, vmax = 130) \n",
    "colors = cm.Greens(norm(sentiment_results_sorted['Positive']))  \n",
    "\n",
    "plt.figure(figsize = (10, 6), dpi = 500)\n",
    "plt.barh(sentiment_results_sorted['Framework'], sentiment_results_sorted['Positive'], color = colors)\n",
    "plt.xlabel('Positive Sentiment (%)')\n",
    "plt.ylabel('Framework')\n",
    "plt.title('Most Positive Frameworks (Grouped by Frontier)')\n",
    "plt.xlim(0, 100)\n",
    "plt.gca().invert_yaxis()\n",
    "\n",
    "plt.axhline(y = 7.5, color = 'black', linestyle = '--', linewidth = 0.8, alpha = 0.5)\n",
    "\n",
    "plt.tight_layout()\n",
    "plt.show()"
   ]
  },
  {
   "cell_type": "code",
   "execution_count": null,
   "metadata": {},
   "outputs": [],
   "source": [
    "sentiment_results_negative = sentiment_results.sort_values(by = 'Negative', ascending = False)\n",
    "\n",
    "norm = mcolors.Normalize(vmin = -30, vmax = 130)  \n",
    "colors = cm.Reds(norm(sentiment_results_negative['Negative'])) \n",
    "\n",
    "plt.figure(figsize = (10, 6), dpi = 500)\n",
    "plt.barh(sentiment_results_negative['Framework'], sentiment_results_negative['Negative'], color = colors)\n",
    "plt.xlabel('Negative Sentiment (%)')\n",
    "plt.ylabel('Framework')\n",
    "plt.title('Most Negative Frameworks')\n",
    "plt.xlim(0, 100)\n",
    "plt.gca().invert_yaxis()\n",
    "plt.tight_layout()\n",
    "plt.show()"
   ]
  },
  {
   "cell_type": "code",
   "execution_count": null,
   "metadata": {},
   "outputs": [],
   "source": [
    "sentiment_results_sorted = sentiment_results.sort_values(by = ['Frontier', 'Negative'], ascending = [False, False])\n",
    "\n",
    "norm = mcolors.Normalize(vmin = -30, vmax = 130) \n",
    "colors = cm.Reds(norm(sentiment_results_sorted['Negative'])) \n",
    "\n",
    "plt.figure(figsize = (10, 6), dpi = 500)\n",
    "plt.barh(sentiment_results_sorted['Framework'], sentiment_results_sorted['Negative'], color=colors)\n",
    "plt.xlabel('Negative Sentiment (%)')\n",
    "plt.ylabel('Framework')\n",
    "plt.title('Most Negative Frameworks (Grouped by Frontier)')\n",
    "plt.xlim(0, 100)\n",
    "plt.gca().invert_yaxis()  \n",
    "\n",
    "plt.axhline(y = 7.5, color = 'black', linestyle = '--', linewidth = 0.8, alpha = 0.5)\n",
    "\n",
    "plt.tight_layout()\n",
    "plt.show()\n",
    "\n"
   ]
  },
  {
   "cell_type": "code",
   "execution_count": null,
   "metadata": {},
   "outputs": [],
   "source": [
    "sentiment_results_neutral = sentiment_results.sort_values(by = 'Neutral', ascending = False)\n",
    "\n",
    "norm = mcolors.Normalize(vmin = -30, vmax = 130)  \n",
    "colors = cm.Grays(norm(sentiment_results_neutral['Neutral'])) \n",
    "\n",
    "plt.figure(figsize = (10, 6), dpi = 500)\n",
    "plt.barh(sentiment_results_neutral['Framework'], sentiment_results_neutral['Neutral'], color = colors)\n",
    "plt.xlabel('Neutral Sentiment (%)')\n",
    "plt.ylabel('Framework')\n",
    "plt.title('Most Neutral Frameworks')\n",
    "plt.xlim(0, 100)\n",
    "plt.gca().invert_yaxis()  \n",
    "\n",
    "plt.tight_layout()\n",
    "plt.show()"
   ]
  },
  {
   "cell_type": "code",
   "execution_count": null,
   "metadata": {},
   "outputs": [],
   "source": [
    "sentiment_results_sorted = sentiment_results.sort_values(by = ['Frontier', 'Neutral'], ascending  =[False, False])\n",
    "\n",
    "norm = mcolors.Normalize(vmin = -30, vmax = 130)  \n",
    "colors = cm.Grays(norm(sentiment_results_sorted['Neutral']))  \n",
    "\n",
    "# Plot horizontal bar chart\n",
    "plt.figure(figsize = (10, 6), dpi = 500)\n",
    "plt.barh(sentiment_results_sorted['Framework'], sentiment_results_sorted['Neutral'], color=colors)\n",
    "plt.xlabel('Neutral Sentiment (%)')\n",
    "plt.ylabel('Framework')\n",
    "plt.title('Most Neutral Frameworks')\n",
    "plt.xlim(0, 100)\n",
    "plt.gca().invert_yaxis() \n",
    "\n",
    "plt.axhline(y = 7.5, color = 'black', linestyle = '--', linewidth = 0.8, alpha = 0.5)\n",
    "\n",
    "plt.tight_layout()\n",
    "plt.show()"
   ]
  },
  {
   "cell_type": "code",
   "execution_count": null,
   "metadata": {},
   "outputs": [],
   "source": [
    "sentiment_results = sentiment_results.assign(\n",
    "    Intensity=sentiment_results['Positive'] + sentiment_results['Negative']\n",
    ")\n",
    "\n",
    "sentiment_results_intensity = sentiment_results.sort_values(by = ['Intensity'], ascending = [False])\n",
    "\n",
    "norm = mcolors.Normalize(vmin = -30, vmax = 130)  \n",
    "colors = cm.Purples(norm(sentiment_results_intensity['Intensity'])) \n",
    "\n",
    "plt.figure(figsize = (10, 6), dpi = 500)\n",
    "plt.barh(sentiment_results_intensity['Framework'], sentiment_results_intensity['Intensity'], color = colors)\n",
    "plt.xlabel('Intense Sentiment (%)')\n",
    "plt.ylabel('Framework')\n",
    "plt.title('Most Intense Frameworks')\n",
    "plt.xlim(0, 100)\n",
    "plt.gca().invert_yaxis()\n",
    "plt.tight_layout()\n",
    "plt.show()"
   ]
  },
  {
   "cell_type": "code",
   "execution_count": null,
   "metadata": {},
   "outputs": [],
   "source": [
    "sentiment_results['Intensity'] = sentiment_results['Positive'] + sentiment_results['Negative']\n",
    "\n",
    "sentiment_results_sorted = sentiment_results.sort_values(by = ['Frontier', 'Intensity'], ascending = [False, False])\n",
    "\n",
    "norm = mcolors.Normalize(vmin = -30, vmax = 130) \n",
    "colors = cm.Purples(norm(sentiment_results_sorted['Intensity']))  \n",
    "\n",
    "plt.figure(figsize = (10, 6), dpi = 500)\n",
    "plt.barh(sentiment_results_sorted['Framework'], sentiment_results_sorted['Intensity'], color = colors)\n",
    "plt.xlabel('Intense Sentiment (%)')\n",
    "plt.ylabel('Framework')\n",
    "plt.title('Most Intense Frameworks')\n",
    "plt.xlim(0, 100)\n",
    "plt.gca().invert_yaxis()  \n",
    "\n",
    "plt.axhline(y = 7.5, color = 'black', linestyle = '--', linewidth = 0.8, alpha = 0.5)\n",
    "\n",
    "plt.tight_layout()\n",
    "plt.show()"
   ]
  }
 ],
 "metadata": {
  "kernelspec": {
   "display_name": "fwenv",
   "language": "python",
   "name": "python3"
  },
  "language_info": {
   "codemirror_mode": {
    "name": "ipython",
    "version": 3
   },
   "file_extension": ".py",
   "mimetype": "text/x-python",
   "name": "python",
   "nbconvert_exporter": "python",
   "pygments_lexer": "ipython3",
   "version": "3.13.2"
  }
 },
 "nbformat": 4,
 "nbformat_minor": 2
}
